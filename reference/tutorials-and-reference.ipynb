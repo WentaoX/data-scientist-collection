{
 "cells": [
  {
   "cell_type": "markdown",
   "metadata": {},
   "source": [
    "### real time bidding\n",
    "[github: paper collection of **RTB**](https://github.com/wnzhang/rtb-papers): A collection of research and survey papers of real-time bidding (RTB) based display advertising techniques.   "
   ]
  },
  {
   "cell_type": "markdown",
   "metadata": {},
   "source": [
    "### python\n",
    "[**Pandas** tutorial](https://pandas.pydata.org/pandas-docs/stable/tutorials.html): official tutuorial of pandas, a library to perform high-performance dataframe data scructure and data analysis.   \n",
    "[**scikit-learn**](http://scikit-learn.org/stable/index.html): official document of scikit-learn, a machine learning library.    \n",
    "[**xgboost** python API reference](http://xgboost.readthedocs.io/en/latest/python/python_api.html): xgboost is library for scalable and flexible gradient boosting.Using xgboost is fast to prototype model but may consume time the tune parameter."
   ]
  },
  {
   "cell_type": "markdown",
   "metadata": {},
   "source": [
    "### spark\n",
    "[**Spark Programming Guide**](https://spark.apache.org/docs/latest/programming-guide.html): the starting point of spark programming: please do read this file carefully and wholely to understand the basic concept of:   \n",
    "1. RDD\n",
    "2. transformation and action\n",
    "3. how to innitiate and launching a spark job (spark-submit)   \n",
    "\n",
    "[**Spark Python API docs**](http://spark.apache.org/docs/2.1.0/api/python/index.html): official document of spark python API.       \n",
    "[**Pyspark API**](http://takwatanabe.me/pyspark/index.html)  \n",
    "[github: pyspark-pictures](https://github.com/jkthompson/pyspark-pictures): learn the pyspark API through pictures and simple example"
   ]
  },
  {
   "cell_type": "markdown",
   "metadata": {},
   "source": [
    "### aerospike\n",
    "[**Aerospike Python client**](http://www.aerospike.com/docs/client/python): the starting point of aerospike   \n",
    "[**Aerospike Python API (python lib: aerospike) documents**](http://www.aerospike.com/apidocs/python/)   \n",
    "[github: aerospike python client](https://github.com/aerospike/aerospike-client-python)   \n",
    "[Aerospike Quest Language (**aql**) documents](http://www.aerospike.com/docs/tools/aql)   \n",
    "[aerospike-spark connector](http://www.aerospike.com/docs/connectors/spark): aerospike-spark connector has been installed in both local and cloud. pls use this connector to get data from aerospike to spark, and use this data for intelligient model training.   "
   ]
  },
  {
   "cell_type": "markdown",
   "metadata": {},
   "source": [
    "### aws\n",
    "[**aws documentation**](https://aws.amazon.com/documentation/): official documentation to AWS services.   \n",
    "[**boto3 documents**](https://boto3.readthedocs.io/en/latest/): Amazon Web Services (AWS) SDK for Python, which allows Python developers to write software that makes use of Amazon services."
   ]
  },
  {
   "cell_type": "markdown",
   "metadata": {},
   "source": [
    "### good to know\n",
    "[a interactive **vim** tutorial](http://www.openvim.com/)    \n",
    "[**markdown** cheat sheet](https://github.com/adam-p/markdown-here/wiki/Markdown-Cheatsheet#emphasis) markdown is useful in jupyter notebook   \n",
    "[**git** - the simple guide](http://rogerdudler.github.io/git-guide/)"
   ]
  }
 ],
 "metadata": {
  "kernelspec": {
   "display_name": "Python 2",
   "language": "python",
   "name": "python2"
  },
  "language_info": {
   "codemirror_mode": {
    "name": "ipython",
    "version": 2
   },
   "file_extension": ".py",
   "mimetype": "text/x-python",
   "name": "python",
   "nbconvert_exporter": "python",
   "pygments_lexer": "ipython2",
   "version": "2.7.13"
  }
 },
 "nbformat": 4,
 "nbformat_minor": 2
}
